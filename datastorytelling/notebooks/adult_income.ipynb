{
 "cells": [
  {
   "cell_type": "markdown",
   "id": "e1d1675d",
   "metadata": {},
   "source": [
    "## Import libraries"
   ]
  },
  {
   "cell_type": "code",
   "execution_count": 1,
   "id": "dcd8d50b",
   "metadata": {},
   "outputs": [],
   "source": [
    "import numpy as np\n",
    "import pandas as pd\n",
    "import matplotlib.pyplot as plt\n",
    "import seaborn as sns\n",
    "import scipy.stats as ss\n",
    "from sklearn.preprocessing import OneHotEncoder, OrdinalEncoder"
   ]
  },
  {
   "cell_type": "markdown",
   "id": "f9f1988a",
   "metadata": {},
   "source": [
    "## Load and explore the data "
   ]
  },
  {
   "cell_type": "code",
   "execution_count": 2,
   "id": "615d325f",
   "metadata": {},
   "outputs": [],
   "source": [
    "df = pd.read_csv('../data/adult.csv')"
   ]
  },
  {
   "cell_type": "code",
   "execution_count": 3,
   "id": "6fd296ba",
   "metadata": {},
   "outputs": [
    {
     "data": {
      "text/html": [
       "<div>\n",
       "<style scoped>\n",
       "    .dataframe tbody tr th:only-of-type {\n",
       "        vertical-align: middle;\n",
       "    }\n",
       "\n",
       "    .dataframe tbody tr th {\n",
       "        vertical-align: top;\n",
       "    }\n",
       "\n",
       "    .dataframe thead th {\n",
       "        text-align: right;\n",
       "    }\n",
       "</style>\n",
       "<table border=\"1\" class=\"dataframe\">\n",
       "  <thead>\n",
       "    <tr style=\"text-align: right;\">\n",
       "      <th></th>\n",
       "      <th>age</th>\n",
       "      <th>workclass</th>\n",
       "      <th>fnlwgt</th>\n",
       "      <th>education</th>\n",
       "      <th>educational-num</th>\n",
       "      <th>marital-status</th>\n",
       "      <th>occupation</th>\n",
       "      <th>relationship</th>\n",
       "      <th>race</th>\n",
       "      <th>gender</th>\n",
       "      <th>capital-gain</th>\n",
       "      <th>capital-loss</th>\n",
       "      <th>hours-per-week</th>\n",
       "      <th>native-country</th>\n",
       "      <th>income</th>\n",
       "    </tr>\n",
       "  </thead>\n",
       "  <tbody>\n",
       "    <tr>\n",
       "      <th>0</th>\n",
       "      <td>25</td>\n",
       "      <td>Private</td>\n",
       "      <td>226802</td>\n",
       "      <td>11th</td>\n",
       "      <td>7</td>\n",
       "      <td>Never-married</td>\n",
       "      <td>Machine-op-inspct</td>\n",
       "      <td>Own-child</td>\n",
       "      <td>Black</td>\n",
       "      <td>Male</td>\n",
       "      <td>0</td>\n",
       "      <td>0</td>\n",
       "      <td>40</td>\n",
       "      <td>United-States</td>\n",
       "      <td>&lt;=50K</td>\n",
       "    </tr>\n",
       "    <tr>\n",
       "      <th>1</th>\n",
       "      <td>38</td>\n",
       "      <td>Private</td>\n",
       "      <td>89814</td>\n",
       "      <td>HS-grad</td>\n",
       "      <td>9</td>\n",
       "      <td>Married-civ-spouse</td>\n",
       "      <td>Farming-fishing</td>\n",
       "      <td>Husband</td>\n",
       "      <td>White</td>\n",
       "      <td>Male</td>\n",
       "      <td>0</td>\n",
       "      <td>0</td>\n",
       "      <td>50</td>\n",
       "      <td>United-States</td>\n",
       "      <td>&lt;=50K</td>\n",
       "    </tr>\n",
       "    <tr>\n",
       "      <th>2</th>\n",
       "      <td>28</td>\n",
       "      <td>Local-gov</td>\n",
       "      <td>336951</td>\n",
       "      <td>Assoc-acdm</td>\n",
       "      <td>12</td>\n",
       "      <td>Married-civ-spouse</td>\n",
       "      <td>Protective-serv</td>\n",
       "      <td>Husband</td>\n",
       "      <td>White</td>\n",
       "      <td>Male</td>\n",
       "      <td>0</td>\n",
       "      <td>0</td>\n",
       "      <td>40</td>\n",
       "      <td>United-States</td>\n",
       "      <td>&gt;50K</td>\n",
       "    </tr>\n",
       "    <tr>\n",
       "      <th>3</th>\n",
       "      <td>44</td>\n",
       "      <td>Private</td>\n",
       "      <td>160323</td>\n",
       "      <td>Some-college</td>\n",
       "      <td>10</td>\n",
       "      <td>Married-civ-spouse</td>\n",
       "      <td>Machine-op-inspct</td>\n",
       "      <td>Husband</td>\n",
       "      <td>Black</td>\n",
       "      <td>Male</td>\n",
       "      <td>7688</td>\n",
       "      <td>0</td>\n",
       "      <td>40</td>\n",
       "      <td>United-States</td>\n",
       "      <td>&gt;50K</td>\n",
       "    </tr>\n",
       "    <tr>\n",
       "      <th>4</th>\n",
       "      <td>18</td>\n",
       "      <td>?</td>\n",
       "      <td>103497</td>\n",
       "      <td>Some-college</td>\n",
       "      <td>10</td>\n",
       "      <td>Never-married</td>\n",
       "      <td>?</td>\n",
       "      <td>Own-child</td>\n",
       "      <td>White</td>\n",
       "      <td>Female</td>\n",
       "      <td>0</td>\n",
       "      <td>0</td>\n",
       "      <td>30</td>\n",
       "      <td>United-States</td>\n",
       "      <td>&lt;=50K</td>\n",
       "    </tr>\n",
       "  </tbody>\n",
       "</table>\n",
       "</div>"
      ],
      "text/plain": [
       "   age  workclass  fnlwgt     education  educational-num      marital-status  \\\n",
       "0   25    Private  226802          11th                7       Never-married   \n",
       "1   38    Private   89814       HS-grad                9  Married-civ-spouse   \n",
       "2   28  Local-gov  336951    Assoc-acdm               12  Married-civ-spouse   \n",
       "3   44    Private  160323  Some-college               10  Married-civ-spouse   \n",
       "4   18          ?  103497  Some-college               10       Never-married   \n",
       "\n",
       "          occupation relationship   race  gender  capital-gain  capital-loss  \\\n",
       "0  Machine-op-inspct    Own-child  Black    Male             0             0   \n",
       "1    Farming-fishing      Husband  White    Male             0             0   \n",
       "2    Protective-serv      Husband  White    Male             0             0   \n",
       "3  Machine-op-inspct      Husband  Black    Male          7688             0   \n",
       "4                  ?    Own-child  White  Female             0             0   \n",
       "\n",
       "   hours-per-week native-country income  \n",
       "0              40  United-States  <=50K  \n",
       "1              50  United-States  <=50K  \n",
       "2              40  United-States   >50K  \n",
       "3              40  United-States   >50K  \n",
       "4              30  United-States  <=50K  "
      ]
     },
     "execution_count": 3,
     "metadata": {},
     "output_type": "execute_result"
    }
   ],
   "source": [
    "df.head(5)"
   ]
  },
  {
   "cell_type": "code",
   "execution_count": 4,
   "id": "d2c63756",
   "metadata": {},
   "outputs": [
    {
     "name": "stdout",
     "output_type": "stream",
     "text": [
      "<class 'pandas.core.frame.DataFrame'>\n",
      "RangeIndex: 48842 entries, 0 to 48841\n",
      "Data columns (total 15 columns):\n",
      " #   Column           Non-Null Count  Dtype \n",
      "---  ------           --------------  ----- \n",
      " 0   age              48842 non-null  int64 \n",
      " 1   workclass        48842 non-null  object\n",
      " 2   fnlwgt           48842 non-null  int64 \n",
      " 3   education        48842 non-null  object\n",
      " 4   educational-num  48842 non-null  int64 \n",
      " 5   marital-status   48842 non-null  object\n",
      " 6   occupation       48842 non-null  object\n",
      " 7   relationship     48842 non-null  object\n",
      " 8   race             48842 non-null  object\n",
      " 9   gender           48842 non-null  object\n",
      " 10  capital-gain     48842 non-null  int64 \n",
      " 11  capital-loss     48842 non-null  int64 \n",
      " 12  hours-per-week   48842 non-null  int64 \n",
      " 13  native-country   48842 non-null  object\n",
      " 14  income           48842 non-null  object\n",
      "dtypes: int64(6), object(9)\n",
      "memory usage: 5.6+ MB\n"
     ]
    }
   ],
   "source": [
    "df.info()"
   ]
  },
  {
   "cell_type": "code",
   "execution_count": 5,
   "id": "9364e25a",
   "metadata": {},
   "outputs": [],
   "source": [
    "#change income column to '0' and '1'\n",
    "df['income'] = df['income'].map({'<=50K': 0, '>50K': 1})"
   ]
  },
  {
   "cell_type": "code",
   "execution_count": 6,
   "id": "b8f5fba8",
   "metadata": {},
   "outputs": [
    {
     "data": {
      "text/plain": [
       "(48842, 15)"
      ]
     },
     "execution_count": 6,
     "metadata": {},
     "output_type": "execute_result"
    }
   ],
   "source": [
    "df.shape"
   ]
  },
  {
   "cell_type": "markdown",
   "id": "47b17acb",
   "metadata": {},
   "source": [
    "## List of problems to answer from the dataset"
   ]
  },
  {
   "cell_type": "markdown",
   "id": "d6e7ea8e",
   "metadata": {},
   "source": [
    "1. Is there difference in income by gender or race?\n",
    "2. Which factors have the biggest influence on income?\n",
    "3. How is `income` correlated with workclass, marital status, and occupation?"
   ]
  },
  {
   "cell_type": "markdown",
   "id": "e4c68af4",
   "metadata": {},
   "source": [
    "### Question 1: Is there difference in income by gender or race?"
   ]
  },
  {
   "cell_type": "code",
   "execution_count": 7,
   "id": "3f1feff6",
   "metadata": {},
   "outputs": [
    {
     "data": {
      "text/plain": [
       "<AxesSubplot:xlabel='race', ylabel='income'>"
      ]
     },
     "execution_count": 7,
     "metadata": {},
     "output_type": "execute_result"
    },
    {
     "data": {
      "image/png": "[encoded data removed]",
      "text/plain": [
       "<Figure size 1296x576 with 2 Axes>"
      ]
     },
     "metadata": {
      "needs_background": "light"
     },
     "output_type": "display_data"
    }
   ],
   "source": [
    "fig, ax=plt.subplots(1,2, figsize=(18,8))\n",
    "sns.barplot(y='income', x='gender', data= df, ax=ax[0])\n",
    "sns.barplot(y='income', x='race', data= df, ax=ax[1])"
   ]
  },
  {
   "cell_type": "code",
   "execution_count": 8,
   "id": "c0aca8b9",
   "metadata": {},
   "outputs": [
    {
     "name": "stdout",
     "output_type": "stream",
     "text": [
      "          income\n",
      "gender          \n",
      "Female  0.109251\n",
      "Male    0.303767\n"
     ]
    }
   ],
   "source": [
    "mean = df[['income', 'gender']].groupby('gender').agg(np.mean)\n",
    "print(mean)"
   ]
  },
  {
   "cell_type": "markdown",
   "id": "35551225",
   "metadata": {},
   "source": [
    "There are 10.93% female employees having income >=50k annually, while this number in male employees is 30.38%. "
   ]
  },
  {
   "cell_type": "code",
   "execution_count": 9,
   "id": "4d5e9606",
   "metadata": {},
   "outputs": [
    {
     "name": "stdout",
     "output_type": "stream",
     "text": [
      "                      income\n",
      "race                        \n",
      "Amer-Indian-Eskimo  0.117021\n",
      "Black               0.120811\n",
      "Other               0.123153\n",
      "White               0.253987\n",
      "Asian-Pac-Islander  0.269256\n"
     ]
    }
   ],
   "source": [
    "mean = df[['income', 'race']].groupby('race').agg(np.mean).sort_values(by = 'income')\n",
    "print(mean)"
   ]
  },
  {
   "cell_type": "markdown",
   "id": "6cef7f62",
   "metadata": {},
   "source": [
    "Amer-Indian-Eskimo has the lowest rate of employees having income >= 50K at 11.7%, while Asian-Pac-Islander has the highest rate at 26.93%. There is a big difference between the second highest and third highest, at 25.4% and 12.32% respectively.\n",
    "The standard deviation is small for black and white groups, while it is large for Asian-Pac-Islander, Amer-Indian-Eskimo and other groups, which is expected since these groups are more diverse."
   ]
  },
  {
   "cell_type": "markdown",
   "id": "e38a5e9a",
   "metadata": {},
   "source": [
    "### Question 2: Which factors have the biggest influence on income?"
   ]
  },
  {
   "cell_type": "code",
   "execution_count": 10,
   "id": "b1383388",
   "metadata": {},
   "outputs": [
    {
     "data": {
      "text/plain": [
       "age                0.230369\n",
       "fnlwgt            -0.006339\n",
       "educational-num    0.332613\n",
       "capital-gain       0.223013\n",
       "capital-loss       0.147554\n",
       "hours-per-week     0.227687\n",
       "Name: income, dtype: float64"
      ]
     },
     "execution_count": 10,
     "metadata": {},
     "output_type": "execute_result"
    }
   ],
   "source": [
    "#the correlation of `income` with other columns\n",
    "df[df.columns[0:]].corr()['income'][:-1]"
   ]
  },
  {
   "cell_type": "markdown",
   "id": "ec69bec5",
   "metadata": {},
   "source": [
    "Among numerical factors, `educational number` has the greatest correlation with `income`, followed by `age` and `hours-per-week`. "
   ]
  },
  {
   "cell_type": "markdown",
   "id": "cec12f1a",
   "metadata": {},
   "source": [
    "### Question 3: How is income correlated with workclass, marital status, and occupation?"
   ]
  },
  {
   "cell_type": "markdown",
   "id": "e810ef1d",
   "metadata": {},
   "source": [
    "The factors we consider now are categorical. We use OrdinalEncoder to change them to numerical data."
   ]
  },
  {
   "cell_type": "code",
   "execution_count": 11,
   "id": "03e38c37",
   "metadata": {},
   "outputs": [],
   "source": [
    "enc = OrdinalEncoder()\n",
    "enc.fit(df[[\"workclass\",\"marital-status\", \"occupation\"]])\n",
    "df[[\"workclass\",\"marital-status\", \"occupation\"]] = enc.transform(df[[\"workclass\",\"marital-status\", \"occupation\"]])"
   ]
  },
  {
   "cell_type": "code",
   "execution_count": 12,
   "id": "2c543418",
   "metadata": {},
   "outputs": [
    {
     "data": {
      "text/plain": [
       "workclass         0.052674\n",
       "marital-status   -0.199072\n",
       "occupation        0.076722\n",
       "Name: income, dtype: float64"
      ]
     },
     "execution_count": 12,
     "metadata": {},
     "output_type": "execute_result"
    }
   ],
   "source": [
    "df[[\"workclass\",\"marital-status\", \"occupation\", \"income\"]].corr()['income'][:-1]"
   ]
  },
  {
   "cell_type": "markdown",
   "id": "a43efdc4",
   "metadata": {},
   "source": [
    "Marital status has the largest impact on income, with the weight at -0.2. We futher investigate this factor."
   ]
  },
  {
   "cell_type": "code",
   "execution_count": 13,
   "id": "ff56eaf8",
   "metadata": {},
   "outputs": [
    {
     "data": {
      "text/plain": [
       "<AxesSubplot:xlabel='marital-status', ylabel='income'>"
      ]
     },
     "execution_count": 13,
     "metadata": {},
     "output_type": "execute_result"
    },
    {
     "data": {
      "image/png": "[encoded data removed]",
      "text/plain": [
       "<Figure size 1296x576 with 1 Axes>"
      ]
     },
     "metadata": {
      "needs_background": "light"
     },
     "output_type": "display_data"
    }
   ],
   "source": [
    "temp = pd.read_csv('../data/adult.csv')\n",
    "df['marital-status'] = temp['marital-status']\n",
    "fig, ax=plt.subplots(1,1, figsize=(18,8))\n",
    "sns.barplot(y='income', x='marital-status', data= df, ax = ax)"
   ]
  },
  {
   "cell_type": "markdown",
   "id": "6a3aae92",
   "metadata": {},
   "source": [
    "Among different marital status, married to a civilian spouse and married to a spouse in Armed Force are the leading groups with highest income, with a large difference in comparison with other groups. The group with the lowest income is never-married group."
   ]
  }
 ],
 "metadata": {
  "kernelspec": {
   "display_name": "Python 3 (ipykernel)",
   "language": "python",
   "name": "python3"
  },
  "language_info": {
   "codemirror_mode": {
    "name": "ipython",
    "version": 3
   },
   "file_extension": ".py",
   "mimetype": "text/x-python",
   "name": "python",
   "nbconvert_exporter": "python",
   "pygments_lexer": "ipython3",
   "version": "3.9.12"
  }
 },
 "nbformat": 4,
 "nbformat_minor": 5
}
