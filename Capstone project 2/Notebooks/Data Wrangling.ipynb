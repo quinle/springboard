{
 "cells": [
  {
   "cell_type": "code",
   "execution_count": 1,
   "id": "ba05f6d5",
   "metadata": {},
   "outputs": [],
   "source": [
    "#Import libraries\n",
    "import os\n",
    "import pandas as pd\n",
    "import numpy as np\n",
    "import sys\n",
    "import matplotlib.pyplot as plt\n",
    "import seaborn as sns"
   ]
  },
  {
   "cell_type": "code",
   "execution_count": 2,
   "id": "d85db90c",
   "metadata": {},
   "outputs": [],
   "source": [
    "#Load data\n",
    "df_train_label = pd.read_csv('/Users/toanngo/Documents/GitHub/capstone 2 data/raw data /train_labels.csv')\n",
    "df_test = pd.read_csv('/Users/toanngo/Documents/GitHub/capstone 2 data/raw data /test_data.csv', nrows = 10**5)\n",
    "df_train = pd.read_csv('/Users/toanngo/Documents/GitHub/capstone 2 data/raw data /train_data.csv', nrows = 10**5)"
   ]
  },
  {
   "cell_type": "code",
   "execution_count": 3,
   "id": "26e2532d",
   "metadata": {},
   "outputs": [
    {
     "name": "stdout",
     "output_type": "stream",
     "text": [
      "<class 'pandas.core.frame.DataFrame'>\n",
      "RangeIndex: 458913 entries, 0 to 458912\n",
      "Data columns (total 2 columns):\n",
      " #   Column       Non-Null Count   Dtype \n",
      "---  ------       --------------   ----- \n",
      " 0   customer_ID  458913 non-null  object\n",
      " 1   target       458913 non-null  int64 \n",
      "dtypes: int64(1), object(1)\n",
      "memory usage: 7.0+ MB\n"
     ]
    },
    {
     "data": {
      "text/plain": [
       "(458913, 2)"
      ]
     },
     "execution_count": 3,
     "metadata": {},
     "output_type": "execute_result"
    }
   ],
   "source": [
    "#Look at the train data train_label\n",
    "#Note that D = Delinquency, S = Spend, P = Payment, B = Balance, R = Risk\n",
    "df_train_label.head()\n",
    "df_train_label.info()\n",
    "df_train_label.shape"
   ]
  },
  {
   "cell_type": "code",
   "execution_count": 4,
   "id": "b6a7fd35",
   "metadata": {},
   "outputs": [
    {
     "name": "stdout",
     "output_type": "stream",
     "text": [
      "<class 'pandas.core.frame.DataFrame'>\n",
      "RangeIndex: 100000 entries, 0 to 99999\n",
      "Columns: 190 entries, customer_ID to D_145\n",
      "dtypes: float64(185), int64(1), object(4)\n",
      "memory usage: 145.0+ MB\n"
     ]
    },
    {
     "data": {
      "text/plain": [
       "(100000, 190)"
      ]
     },
     "execution_count": 4,
     "metadata": {},
     "output_type": "execute_result"
    }
   ],
   "source": [
    "#Look at the test data\n",
    "df_test.head()\n",
    "df_test.info()\n",
    "df_test.shape"
   ]
  },
  {
   "cell_type": "code",
   "execution_count": 5,
   "id": "60957adf",
   "metadata": {},
   "outputs": [
    {
     "name": "stdout",
     "output_type": "stream",
     "text": [
      "<class 'pandas.core.frame.DataFrame'>\n",
      "RangeIndex: 100000 entries, 0 to 99999\n",
      "Columns: 190 entries, customer_ID to D_145\n",
      "dtypes: float64(185), int64(1), object(4)\n",
      "memory usage: 145.0+ MB\n"
     ]
    },
    {
     "data": {
      "text/plain": [
       "(100000, 190)"
      ]
     },
     "execution_count": 5,
     "metadata": {},
     "output_type": "execute_result"
    }
   ],
   "source": [
    "#Look at the train data\n",
    "df_train.head()\n",
    "df_train.info()\n",
    "df_train.shape"
   ]
  },
  {
   "cell_type": "code",
   "execution_count": 6,
   "id": "134e82ff",
   "metadata": {},
   "outputs": [
    {
     "name": "stdout",
     "output_type": "stream",
     "text": [
      "[ True  True  True  True  True  True  True  True  True  True  True  True\n",
      "  True  True  True  True  True  True  True  True  True  True  True  True\n",
      "  True  True  True  True  True  True  True  True  True  True  True  True\n",
      "  True  True  True  True  True  True  True  True  True  True  True  True\n",
      "  True  True  True  True  True  True  True  True  True  True  True  True\n",
      "  True  True  True  True  True  True  True  True  True  True  True  True\n",
      "  True  True  True  True  True  True  True  True  True  True  True  True\n",
      "  True  True  True  True  True  True  True  True  True  True  True  True\n",
      "  True  True  True  True  True  True  True  True  True  True  True  True\n",
      "  True  True  True  True  True  True  True  True  True  True  True  True\n",
      "  True  True  True  True  True  True  True  True  True  True  True  True\n",
      "  True  True  True  True  True  True  True  True  True  True  True  True\n",
      "  True  True  True  True  True  True  True  True  True  True  True  True\n",
      "  True  True  True  True  True  True  True  True  True  True  True  True\n",
      "  True  True  True  True  True  True  True  True  True  True  True  True\n",
      "  True  True  True  True  True  True  True  True  True  True]\n"
     ]
    }
   ],
   "source": [
    "print(df_train.columns == df_test.columns)"
   ]
  },
  {
   "cell_type": "markdown",
   "id": "fe832e48",
   "metadata": {},
   "source": [
    "The train data has same columns with the test data with different year on S_2. It seems that American express is trying to predict behavior of customer in 2019 from the behavior of customer from previous years. Moreover, because they have same columns, the data cleaning we apply to train data can be applied to test data as well."
   ]
  },
  {
   "cell_type": "code",
   "execution_count": 7,
   "id": "2b8edea4",
   "metadata": {},
   "outputs": [
    {
     "data": {
      "text/plain": [
       "False"
      ]
     },
     "execution_count": 7,
     "metadata": {},
     "output_type": "execute_result"
    }
   ],
   "source": [
    "#check if customer_ID is unique for the data sets\n",
    "df_train_label.customer_ID.is_unique\n",
    "df_test.customer_ID.is_unique\n",
    "df_train.customer_ID.is_unique"
   ]
  },
  {
   "cell_type": "code",
   "execution_count": 8,
   "id": "ad7c9d4a",
   "metadata": {},
   "outputs": [
    {
     "data": {
      "text/plain": [
       "0000099d6bd597052cdcda90ffabf56573fe9d7c79be5fbac11a8ed792feb62a    13\n",
       "02f57424c315f39d19f953eb76cce903723f030b7cd78bce93e6b99a2890301d    13\n",
       "02f794f5f05c30b80f13a3b53340380348a260e347941bad411ab156c56a1225    13\n",
       "02f780d5157b01f35406f8022751f73bad2b837117b943ac09951a7ad43d66c8    13\n",
       "02f756bfb409720058bbb5a0d360dfa39a4cd51e45bb382a39a850e2ef5baac4    13\n",
       "Name: customer_ID, dtype: int64"
      ]
     },
     "execution_count": 8,
     "metadata": {},
     "output_type": "execute_result"
    }
   ],
   "source": [
    "#Since the customer_ID is non-unique for test and train data, we figure out what is the issue\n",
    "df_test.customer_ID.value_counts().head()\n",
    "df_train.customer_ID.value_counts().head()"
   ]
  },
  {
   "cell_type": "code",
   "execution_count": 9,
   "id": "ddaaebbe",
   "metadata": {},
   "outputs": [
    {
     "data": {
      "text/html": [
       "<div>\n",
       "<style scoped>\n",
       "    .dataframe tbody tr th:only-of-type {\n",
       "        vertical-align: middle;\n",
       "    }\n",
       "\n",
       "    .dataframe tbody tr th {\n",
       "        vertical-align: top;\n",
       "    }\n",
       "\n",
       "    .dataframe thead th {\n",
       "        text-align: right;\n",
       "    }\n",
       "</style>\n",
       "<table border=\"1\" class=\"dataframe\">\n",
       "  <thead>\n",
       "    <tr style=\"text-align: right;\">\n",
       "      <th></th>\n",
       "      <th>customer_ID</th>\n",
       "      <th>S_2</th>\n",
       "      <th>P_2</th>\n",
       "      <th>D_39</th>\n",
       "    </tr>\n",
       "  </thead>\n",
       "  <tbody>\n",
       "    <tr>\n",
       "      <th>0</th>\n",
       "      <td>0000099d6bd597052cdcda90ffabf56573fe9d7c79be5f...</td>\n",
       "      <td>2017-03-09</td>\n",
       "      <td>0.938469</td>\n",
       "      <td>0.001733</td>\n",
       "    </tr>\n",
       "    <tr>\n",
       "      <th>1</th>\n",
       "      <td>0000099d6bd597052cdcda90ffabf56573fe9d7c79be5f...</td>\n",
       "      <td>2017-04-07</td>\n",
       "      <td>0.936665</td>\n",
       "      <td>0.005775</td>\n",
       "    </tr>\n",
       "    <tr>\n",
       "      <th>2</th>\n",
       "      <td>0000099d6bd597052cdcda90ffabf56573fe9d7c79be5f...</td>\n",
       "      <td>2017-05-28</td>\n",
       "      <td>0.954180</td>\n",
       "      <td>0.091505</td>\n",
       "    </tr>\n",
       "    <tr>\n",
       "      <th>3</th>\n",
       "      <td>0000099d6bd597052cdcda90ffabf56573fe9d7c79be5f...</td>\n",
       "      <td>2017-06-13</td>\n",
       "      <td>0.960384</td>\n",
       "      <td>0.002455</td>\n",
       "    </tr>\n",
       "    <tr>\n",
       "      <th>4</th>\n",
       "      <td>0000099d6bd597052cdcda90ffabf56573fe9d7c79be5f...</td>\n",
       "      <td>2017-07-16</td>\n",
       "      <td>0.947248</td>\n",
       "      <td>0.002483</td>\n",
       "    </tr>\n",
       "    <tr>\n",
       "      <th>5</th>\n",
       "      <td>0000099d6bd597052cdcda90ffabf56573fe9d7c79be5f...</td>\n",
       "      <td>2017-08-04</td>\n",
       "      <td>0.945964</td>\n",
       "      <td>0.001746</td>\n",
       "    </tr>\n",
       "    <tr>\n",
       "      <th>6</th>\n",
       "      <td>0000099d6bd597052cdcda90ffabf56573fe9d7c79be5f...</td>\n",
       "      <td>2017-09-18</td>\n",
       "      <td>0.940705</td>\n",
       "      <td>0.002183</td>\n",
       "    </tr>\n",
       "    <tr>\n",
       "      <th>7</th>\n",
       "      <td>0000099d6bd597052cdcda90ffabf56573fe9d7c79be5f...</td>\n",
       "      <td>2017-10-08</td>\n",
       "      <td>0.914767</td>\n",
       "      <td>0.003029</td>\n",
       "    </tr>\n",
       "    <tr>\n",
       "      <th>8</th>\n",
       "      <td>0000099d6bd597052cdcda90ffabf56573fe9d7c79be5f...</td>\n",
       "      <td>2017-11-20</td>\n",
       "      <td>0.950845</td>\n",
       "      <td>0.009896</td>\n",
       "    </tr>\n",
       "    <tr>\n",
       "      <th>9</th>\n",
       "      <td>0000099d6bd597052cdcda90ffabf56573fe9d7c79be5f...</td>\n",
       "      <td>2017-12-04</td>\n",
       "      <td>0.868580</td>\n",
       "      <td>0.001082</td>\n",
       "    </tr>\n",
       "    <tr>\n",
       "      <th>10</th>\n",
       "      <td>0000099d6bd597052cdcda90ffabf56573fe9d7c79be5f...</td>\n",
       "      <td>2018-01-11</td>\n",
       "      <td>0.909811</td>\n",
       "      <td>0.005715</td>\n",
       "    </tr>\n",
       "    <tr>\n",
       "      <th>11</th>\n",
       "      <td>0000099d6bd597052cdcda90ffabf56573fe9d7c79be5f...</td>\n",
       "      <td>2018-02-21</td>\n",
       "      <td>0.937349</td>\n",
       "      <td>0.002425</td>\n",
       "    </tr>\n",
       "    <tr>\n",
       "      <th>12</th>\n",
       "      <td>0000099d6bd597052cdcda90ffabf56573fe9d7c79be5f...</td>\n",
       "      <td>2018-03-13</td>\n",
       "      <td>0.934745</td>\n",
       "      <td>0.009119</td>\n",
       "    </tr>\n",
       "  </tbody>\n",
       "</table>\n",
       "</div>"
      ],
      "text/plain": [
       "                                          customer_ID         S_2       P_2  \\\n",
       "0   0000099d6bd597052cdcda90ffabf56573fe9d7c79be5f...  2017-03-09  0.938469   \n",
       "1   0000099d6bd597052cdcda90ffabf56573fe9d7c79be5f...  2017-04-07  0.936665   \n",
       "2   0000099d6bd597052cdcda90ffabf56573fe9d7c79be5f...  2017-05-28  0.954180   \n",
       "3   0000099d6bd597052cdcda90ffabf56573fe9d7c79be5f...  2017-06-13  0.960384   \n",
       "4   0000099d6bd597052cdcda90ffabf56573fe9d7c79be5f...  2017-07-16  0.947248   \n",
       "5   0000099d6bd597052cdcda90ffabf56573fe9d7c79be5f...  2017-08-04  0.945964   \n",
       "6   0000099d6bd597052cdcda90ffabf56573fe9d7c79be5f...  2017-09-18  0.940705   \n",
       "7   0000099d6bd597052cdcda90ffabf56573fe9d7c79be5f...  2017-10-08  0.914767   \n",
       "8   0000099d6bd597052cdcda90ffabf56573fe9d7c79be5f...  2017-11-20  0.950845   \n",
       "9   0000099d6bd597052cdcda90ffabf56573fe9d7c79be5f...  2017-12-04  0.868580   \n",
       "10  0000099d6bd597052cdcda90ffabf56573fe9d7c79be5f...  2018-01-11  0.909811   \n",
       "11  0000099d6bd597052cdcda90ffabf56573fe9d7c79be5f...  2018-02-21  0.937349   \n",
       "12  0000099d6bd597052cdcda90ffabf56573fe9d7c79be5f...  2018-03-13  0.934745   \n",
       "\n",
       "        D_39  \n",
       "0   0.001733  \n",
       "1   0.005775  \n",
       "2   0.091505  \n",
       "3   0.002455  \n",
       "4   0.002483  \n",
       "5   0.001746  \n",
       "6   0.002183  \n",
       "7   0.003029  \n",
       "8   0.009896  \n",
       "9   0.001082  \n",
       "10  0.005715  \n",
       "11  0.002425  \n",
       "12  0.009119  "
      ]
     },
     "execution_count": 9,
     "metadata": {},
     "output_type": "execute_result"
    }
   ],
   "source": [
    "#We investigate the first customer_ID from train set'0000099d6bd597052cdcda90ffabf56573fe9d7c79be5fbac11a8ed792feb62a'\n",
    "df_train[df_train.customer_ID == '0000099d6bd597052cdcda90ffabf56573fe9d7c79be5fbac11a8ed792feb62a'].iloc[:, :4]"
   ]
  },
  {
   "cell_type": "markdown",
   "id": "9f765f6b",
   "metadata": {},
   "source": [
    "This customer had 13 transactions from 2017 to 2018 which might contain important info for fraud detection. Therefore, we can not drop the duplicate customer_ID for train and test table. We now investigate further train and test table."
   ]
  },
  {
   "cell_type": "code",
   "execution_count": 10,
   "id": "7a5a70ec",
   "metadata": {},
   "outputs": [],
   "source": [
    "#Investigate df_train and df_test\n",
    "categorical_train = df_train.select_dtypes(include=['object']) #select categorical columns\n",
    "categorical_test = df_test.select_dtypes(include=['object'])"
   ]
  },
  {
   "cell_type": "code",
   "execution_count": 11,
   "id": "45970424",
   "metadata": {
    "scrolled": true
   },
   "outputs": [
    {
     "data": {
      "text/plain": [
       "O    53306\n",
       "U    26416\n",
       "R    16863\n",
       "Name: D_64, dtype: int64"
      ]
     },
     "execution_count": 11,
     "metadata": {},
     "output_type": "execute_result"
    }
   ],
   "source": [
    "df_train.D_63.value_counts()\n",
    "df_train.D_64.value_counts()\n",
    "df_test.D_63.value_counts()\n",
    "df_test.D_64.value_counts()"
   ]
  },
  {
   "cell_type": "markdown",
   "id": "9601bfb5",
   "metadata": {},
   "source": [
    "Since there are only 2 categorical columns and they have limited distinct values, we can consider using one hot encoding when we build our model."
   ]
  },
  {
   "cell_type": "code",
   "execution_count": 12,
   "id": "d2b8204b",
   "metadata": {},
   "outputs": [],
   "source": [
    "#Check missing value, note that these tables have 100000 rows each\n",
    "missing_train = df_train.isna().sum().sort_values(ascending = False).to_frame('missing_count')\n",
    "missing_test = df_test.isna().sum().sort_values(ascending = False).to_frame('missing_count')"
   ]
  },
  {
   "cell_type": "code",
   "execution_count": 13,
   "id": "29f0de94",
   "metadata": {},
   "outputs": [],
   "source": [
    "#create a list of columns we will drop\n",
    "to_drop_train = missing_train[missing_train['missing_count'] > 95000] #we drop if 95% or more is NaN\n",
    "to_drop_test = missing_test[missing_test['missing_count'] > 95000]"
   ]
  },
  {
   "cell_type": "code",
   "execution_count": 14,
   "id": "299a1d1d",
   "metadata": {},
   "outputs": [
    {
     "name": "stdout",
     "output_type": "stream",
     "text": [
      "       missing_count\n",
      "D_87           99927\n",
      "D_88           99850\n",
      "D_108          99470\n",
      "D_111          99366\n",
      "D_110          99366\n",
      "B_39           99327\n",
      "D_73           98851\n",
      "B_42           98645\n",
      "D_134          96384\n",
      "D_138          96384\n",
      "D_135          96384\n",
      "D_136          96384\n",
      "D_137          96384\n",
      "       missing_count\n",
      "D_88           99931\n",
      "D_87           99852\n",
      "D_108          99378\n",
      "D_111          98965\n",
      "D_110          98965\n",
      "B_39           98809\n",
      "D_73           98722\n",
      "B_42           97940\n",
      "D_135          96618\n",
      "D_137          96618\n",
      "D_134          96618\n",
      "D_136          96618\n",
      "D_138          96618\n"
     ]
    }
   ],
   "source": [
    "print(to_drop_train)\n",
    "print(to_drop_test)"
   ]
  },
  {
   "cell_type": "markdown",
   "id": "1338dc46",
   "metadata": {},
   "source": [
    "Although there is some small difference in the order, the lists of dropped columns are the same for train and test data."
   ]
  },
  {
   "cell_type": "code",
   "execution_count": 15,
   "id": "a8e8037a",
   "metadata": {},
   "outputs": [],
   "source": [
    "#drop unneccessary columns\n",
    "to_drop = ['D_87', 'D_88', 'D_108', 'D_111', 'D_110', 'B_39', 'D_73', 'B_42', 'D_134', 'D_138', 'D_135', 'D_136', 'D_137']\n",
    "df_train = df_train.drop(to_drop, axis = 1)\n",
    "df_test = df_test.drop(to_drop, axis = 1)"
   ]
  },
  {
   "cell_type": "code",
   "execution_count": 16,
   "id": "e36fdd6d",
   "metadata": {},
   "outputs": [
    {
     "data": {
      "image/png": "[encoded data removed]",
      "text/plain": [
       "<Figure size 1440x360 with 1 Axes>"
      ]
     },
     "metadata": {
      "needs_background": "light"
     },
     "output_type": "display_data"
    }
   ],
   "source": [
    "#plot for total missing values of columns\n",
    "plt.figure(figsize = (20,5))\n",
    "plt.plot(missing_train)\n",
    "plt.show()"
   ]
  },
  {
   "cell_type": "code",
   "execution_count": 17,
   "id": "66fe5c78",
   "metadata": {},
   "outputs": [],
   "source": [
    "#fill NaN value with 0\n",
    "df_train.fillna(0, inplace = True)\n",
    "df_test.fillna(0, inplace = True)"
   ]
  },
  {
   "cell_type": "code",
   "execution_count": 18,
   "id": "0262e7b1",
   "metadata": {},
   "outputs": [],
   "source": [
    "#join with label, note that we only have label for train data set so we join df_train with label only\n",
    "df_train = df_train.set_index('customer_ID').join(df_train_label.set_index('customer_ID'), on = 'customer_ID', how = 'inner')"
   ]
  },
  {
   "cell_type": "code",
   "execution_count": 19,
   "id": "b80c72a3",
   "metadata": {},
   "outputs": [],
   "source": [
    "#save for later use\n",
    "df_train.to_csv(path_or_buf='~/Documents/GitHub/capstone 2 data/processed data /df_train.csv', index=False)\n",
    "df_test.to_csv(df_train.to_csv(path_or_buf='~/Documents/GitHub/capstone 2 data/processed data /df_test.csv', index=False)\n",
    ", index=False)"
   ]
  },
  {
   "cell_type": "code",
   "execution_count": null,
   "id": "bfd87dc4",
   "metadata": {},
   "outputs": [],
   "source": []
  }
 ],
 "metadata": {
  "kernelspec": {
   "display_name": "Python 3 (ipykernel)",
   "language": "python",
   "name": "python3"
  },
  "language_info": {
   "codemirror_mode": {
    "name": "ipython",
    "version": 3
   },
   "file_extension": ".py",
   "mimetype": "text/x-python",
   "name": "python",
   "nbconvert_exporter": "python",
   "pygments_lexer": "ipython3",
   "version": "3.9.12"
  }
 },
 "nbformat": 4,
 "nbformat_minor": 5
}
