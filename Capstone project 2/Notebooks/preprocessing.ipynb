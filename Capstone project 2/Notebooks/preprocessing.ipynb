{
 "cells": [
  {
   "cell_type": "code",
   "execution_count": 1,
   "id": "db02af25",
   "metadata": {},
   "outputs": [],
   "source": [
    "#Import libraries\n",
    "import os\n",
    "import pandas as pd\n",
    "import numpy as np\n",
    "import sys\n",
    "import matplotlib.pyplot as plt\n",
    "import seaborn as sns\n",
    "from sklearn.feature_selection import VarianceThreshold\n",
    "from sklearn.model_selection import train_test_split\n",
    "from sklearn.preprocessing import StandardScaler\n",
    "from sklearn.compose import ColumnTransformer\n",
    "\n",
    "\n",
    "%matplotlib inline"
   ]
  },
  {
   "cell_type": "code",
   "execution_count": 2,
   "id": "2a6b562a",
   "metadata": {},
   "outputs": [],
   "source": [
    "#Load data\n",
    "df_train = pd.read_csv('~/Documents/GitHub/springboard/Capstone project 2/processed data/df_train.csv')"
   ]
  },
  {
   "cell_type": "code",
   "execution_count": 3,
   "id": "c03d4a48",
   "metadata": {},
   "outputs": [],
   "source": [
    "#D_* = Delinquency variables\n",
    "#S_* = Spend variables\n",
    "#P_* = Payment variables\n",
    "#B_* = Balance variables\n",
    "#R_* = Risk variables"
   ]
  },
  {
   "cell_type": "code",
   "execution_count": 4,
   "id": "b5df836a",
   "metadata": {},
   "outputs": [
    {
     "name": "stdout",
     "output_type": "stream",
     "text": [
      "<class 'pandas.core.frame.DataFrame'>\n",
      "RangeIndex: 80000 entries, 0 to 79999\n",
      "Columns: 177 entries, S_2 to target\n",
      "dtypes: float64(172), int64(2), object(3)\n",
      "memory usage: 108.0+ MB\n"
     ]
    }
   ],
   "source": [
    "df_train.info()"
   ]
  },
  {
   "cell_type": "code",
   "execution_count": 5,
   "id": "1118158b",
   "metadata": {},
   "outputs": [
    {
     "data": {
      "text/plain": [
       "Index(['S_2', 'D_63', 'D_64'], dtype='object')"
      ]
     },
     "execution_count": 5,
     "metadata": {},
     "output_type": "execute_result"
    }
   ],
   "source": [
    "#We get all the categorical columns\n",
    "df_train.select_dtypes(['object']).columns"
   ]
  },
  {
   "cell_type": "code",
   "execution_count": 6,
   "id": "cd943ff4",
   "metadata": {},
   "outputs": [
    {
     "data": {
      "text/html": [
       "<div>\n",
       "<style scoped>\n",
       "    .dataframe tbody tr th:only-of-type {\n",
       "        vertical-align: middle;\n",
       "    }\n",
       "\n",
       "    .dataframe tbody tr th {\n",
       "        vertical-align: top;\n",
       "    }\n",
       "\n",
       "    .dataframe thead th {\n",
       "        text-align: right;\n",
       "    }\n",
       "</style>\n",
       "<table border=\"1\" class=\"dataframe\">\n",
       "  <thead>\n",
       "    <tr style=\"text-align: right;\">\n",
       "      <th></th>\n",
       "      <th>S_2</th>\n",
       "      <th>D_63</th>\n",
       "      <th>D_64</th>\n",
       "    </tr>\n",
       "  </thead>\n",
       "  <tbody>\n",
       "    <tr>\n",
       "      <th>0</th>\n",
       "      <td>2018-02-14</td>\n",
       "      <td>CO</td>\n",
       "      <td>O</td>\n",
       "    </tr>\n",
       "    <tr>\n",
       "      <th>1</th>\n",
       "      <td>2017-08-26</td>\n",
       "      <td>CO</td>\n",
       "      <td>R</td>\n",
       "    </tr>\n",
       "    <tr>\n",
       "      <th>2</th>\n",
       "      <td>2017-08-17</td>\n",
       "      <td>CR</td>\n",
       "      <td>O</td>\n",
       "    </tr>\n",
       "    <tr>\n",
       "      <th>3</th>\n",
       "      <td>2017-05-04</td>\n",
       "      <td>CR</td>\n",
       "      <td>-1</td>\n",
       "    </tr>\n",
       "    <tr>\n",
       "      <th>4</th>\n",
       "      <td>2017-04-17</td>\n",
       "      <td>CO</td>\n",
       "      <td>O</td>\n",
       "    </tr>\n",
       "    <tr>\n",
       "      <th>...</th>\n",
       "      <td>...</td>\n",
       "      <td>...</td>\n",
       "      <td>...</td>\n",
       "    </tr>\n",
       "    <tr>\n",
       "      <th>79995</th>\n",
       "      <td>2017-11-08</td>\n",
       "      <td>CO</td>\n",
       "      <td>U</td>\n",
       "    </tr>\n",
       "    <tr>\n",
       "      <th>79996</th>\n",
       "      <td>2017-09-19</td>\n",
       "      <td>CO</td>\n",
       "      <td>O</td>\n",
       "    </tr>\n",
       "    <tr>\n",
       "      <th>79997</th>\n",
       "      <td>2017-08-06</td>\n",
       "      <td>CO</td>\n",
       "      <td>R</td>\n",
       "    </tr>\n",
       "    <tr>\n",
       "      <th>79998</th>\n",
       "      <td>2017-07-27</td>\n",
       "      <td>CR</td>\n",
       "      <td>R</td>\n",
       "    </tr>\n",
       "    <tr>\n",
       "      <th>79999</th>\n",
       "      <td>2018-03-03</td>\n",
       "      <td>CO</td>\n",
       "      <td>O</td>\n",
       "    </tr>\n",
       "  </tbody>\n",
       "</table>\n",
       "<p>80000 rows × 3 columns</p>\n",
       "</div>"
      ],
      "text/plain": [
       "              S_2 D_63 D_64\n",
       "0      2018-02-14   CO    O\n",
       "1      2017-08-26   CO    R\n",
       "2      2017-08-17   CR    O\n",
       "3      2017-05-04   CR   -1\n",
       "4      2017-04-17   CO    O\n",
       "...           ...  ...  ...\n",
       "79995  2017-11-08   CO    U\n",
       "79996  2017-09-19   CO    O\n",
       "79997  2017-08-06   CO    R\n",
       "79998  2017-07-27   CR    R\n",
       "79999  2018-03-03   CO    O\n",
       "\n",
       "[80000 rows x 3 columns]"
      ]
     },
     "execution_count": 6,
     "metadata": {},
     "output_type": "execute_result"
    }
   ],
   "source": [
    "df_train[['S_2', 'D_63', 'D_64']]"
   ]
  },
  {
   "cell_type": "code",
   "execution_count": 7,
   "id": "f565daff",
   "metadata": {},
   "outputs": [
    {
     "data": {
      "text/plain": [
       "CO    59058\n",
       "CR    13858\n",
       "CL     6452\n",
       "XZ      381\n",
       "XM      127\n",
       "XL      124\n",
       "Name: D_63, dtype: int64"
      ]
     },
     "execution_count": 7,
     "metadata": {},
     "output_type": "execute_result"
    }
   ],
   "source": [
    "df_train['D_63'].value_counts()\n"
   ]
  },
  {
   "cell_type": "code",
   "execution_count": 8,
   "id": "521e1fe7",
   "metadata": {},
   "outputs": [
    {
     "data": {
      "text/plain": [
       "O     42680\n",
       "U     21880\n",
       "R     11595\n",
       "0      3298\n",
       "-1      547\n",
       "Name: D_64, dtype: int64"
      ]
     },
     "execution_count": 8,
     "metadata": {},
     "output_type": "execute_result"
    }
   ],
   "source": [
    "df_train['D_64'].value_counts()"
   ]
  },
  {
   "cell_type": "code",
   "execution_count": 9,
   "id": "c65071aa",
   "metadata": {},
   "outputs": [],
   "source": [
    "#We drop the 'S_2' column and one hot encode 'D_63' and 'D_64'\n",
    "df_train = df_train.drop(columns = ['S_2'])\n",
    "df_train = pd.get_dummies(df_train, columns = ['D_63', 'D_64'])"
   ]
  },
  {
   "cell_type": "markdown",
   "id": "9ba79fc0",
   "metadata": {},
   "source": [
    "We now standardize the magnitude of numeric features using a scaler except for the dummy columns"
   ]
  },
  {
   "cell_type": "code",
   "execution_count": 10,
   "id": "0df608de",
   "metadata": {},
   "outputs": [],
   "source": [
    "#get all the numeric columns which are not dummy\n",
    "columns_name = df_train.columns.tolist()\n",
    "for i in ['D_63_CL',\n",
    " 'D_63_CO',\n",
    " 'D_63_CR',\n",
    " 'D_63_XL',\n",
    " 'D_63_XM',\n",
    " 'D_63_XZ',\n",
    " 'D_64_-1',\n",
    " 'D_64_0',\n",
    " 'D_64_O',\n",
    " 'D_64_R',\n",
    " 'D_64_U']:\n",
    "    columns_name.remove(i)"
   ]
  },
  {
   "cell_type": "code",
   "execution_count": 11,
   "id": "1cb48610",
   "metadata": {},
   "outputs": [],
   "source": [
    "#we apply the StandardScaler to the numeric columns which are not dummy\n",
    "ct = ColumnTransformer([\n",
    "        ('somename', StandardScaler(), columns_name)\n",
    "    ], remainder='passthrough')\n",
    "scaled_df = ct.fit_transform(df_train)\n",
    "all_columns = df_train.columns\n",
    "scaled_df = pd.DataFrame(scaled_df, columns=all_columns)"
   ]
  },
  {
   "cell_type": "code",
   "execution_count": 12,
   "id": "7c0fc444",
   "metadata": {},
   "outputs": [],
   "source": [
    "#split to train set and test set\n",
    "y = df_train.target\n",
    "X = df_train.drop(columns = ['target'])\n",
    "X_train,X_test, y_train, y_test = train_test_split(X, y, test_size=0.2, random_state=42)"
   ]
  },
  {
   "cell_type": "code",
   "execution_count": null,
   "id": "d81f7cf6",
   "metadata": {},
   "outputs": [],
   "source": []
  }
 ],
 "metadata": {
  "kernelspec": {
   "display_name": "Python 3 (ipykernel)",
   "language": "python",
   "name": "python3"
  },
  "language_info": {
   "codemirror_mode": {
    "name": "ipython",
    "version": 3
   },
   "file_extension": ".py",
   "mimetype": "text/x-python",
   "name": "python",
   "nbconvert_exporter": "python",
   "pygments_lexer": "ipython3",
   "version": "3.8.10"
  }
 },
 "nbformat": 4,
 "nbformat_minor": 5
}
